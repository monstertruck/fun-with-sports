{
 "cells": [
  {
   "cell_type": "markdown",
   "metadata": {},
   "source": [
    "# shot selection"
   ]
  },
  {
   "cell_type": "code",
   "execution_count": 2,
   "metadata": {},
   "outputs": [],
   "source": [
    "# Parameters that you can use to adjust.\n",
    "pickteam = \"SAS\"\n",
    "numberofgames = 10"
   ]
  },
  {
   "cell_type": "code",
   "execution_count": 7,
   "metadata": {},
   "outputs": [
    {
     "data": {
      "text/plain": [
       "['./APIKeys.ini']"
      ]
     },
     "execution_count": 7,
     "metadata": {},
     "output_type": "execute_result"
    }
   ],
   "source": [
    "# preamble\n",
    "# from bs4 import BeautifulSoup as bs\n",
    "import urlopen\n",
    "import urllib\n",
    "import re\n",
    "import pandas as pd\n",
    "import numpy as np\n",
    "# import datetime\n",
    "# import time\n",
    "# from scipy.misc import imread\n",
    "\n",
    "%matplotlib inline\n",
    "from matplotlib.patches import Circle, Rectangle, Arc\n",
    "import matplotlib.pyplot as plt\n",
    "import matplotlib.cm as cm\n",
    "import seaborn as sb\n",
    "\n",
    "# for the api part.\n",
    "import requests\n",
    "import base64\n",
    "import configparser\n",
    "\n",
    "# let's be secure and keep authorization details secret.\n",
    "APIKEYS = configparser.ConfigParser()\n",
    "APIKEYS.read('./APIKeys.ini');\n",
    "\n",
    "# Get the keyname (client_id?) and actual API key.\n",
    "usern = APIKEYS['mysportsfeeds']['usern']\n",
    "passw = APIKEYS['mysportsfeeds']['passw']"
   ]
  },
  {
   "cell_type": "markdown",
   "metadata": {},
   "source": [
    "Hypothesis: When certain players are in the game, "
   ]
  },
  {
   "cell_type": "code",
   "execution_count": null,
   "metadata": {},
   "outputs": [],
   "source": []
  },
  {
   "cell_type": "code",
   "execution_count": 15,
   "metadata": {},
   "outputs": [
    {
     "name": "stdout",
     "output_type": "stream",
     "text": [
      "200\n"
     ]
    }
   ],
   "source": [
    "team_url = \"https://api.mysportsfeeds.com/v1.1/pull/nba/2017-2018-regular/team_gamelogs.json?team=\" + pickteam\n",
    "team_raw =  requests.get(url=team_url,\n",
    "                         headers={\"Authorization\": \"Basic \" + \n",
    "                                  base64.b64encode('{}:{}'.format(usern,passw).encode('utf-8')).decode('ascii')})\n",
    "\n",
    "# Just in case!\n",
    "print(team_raw.status_code)\n",
    "\n",
    "# Convert to JSON\n",
    "team_js = team_raw.json()\n",
    "\n",
    "# Now we have the schedule.\n",
    "team_sked = pd.DataFrame(team_js['teamgamelogs']['gamelogs'])\n",
    "\n",
    "# Loop over the games and get the correct ID (YYYYMMDD-AWAY-HOME)\n",
    "for i in range(numberofgames):\n",
    "    team_sked.loc[i,'away'] = team_sked['game'][i]['awayTeam']['Abbreviation']\n",
    "    team_sked.loc[i,'home'] = team_sked['game'][i]['homeTeam']['Abbreviation']\n",
    "    team_sked.loc[i,'gamedate'] = team_sked['game'][i]['date'].replace(\"-\",\"\")\n",
    "\n",
    "team_sked = team_sked.assign(gameid = team_sked['gamedate'] + \"-\" + team_sked['away'] + \"-\" + team_sked['home'])\n",
    "team_sked = team_sked.drop(['game','stats','team'], 1)\n",
    "team_urls = team_sked.drop(['away','home','gamedate'], 1)\n",
    "team_urls = team_sked.assign(gameURL = \"https://api.mysportsfeeds.com/v1.1/pull/nba/2016-2017-regular/game_playbyplay.json?gameid=\" + \n",
    "                             team_sked['gameid'] )"
   ]
  },
  {
   "cell_type": "code",
   "execution_count": null,
   "metadata": {},
   "outputs": [],
   "source": []
  }
 ],
 "metadata": {
  "kernelspec": {
   "display_name": "Ballnerds",
   "language": "python",
   "name": "ballnerds"
  },
  "language_info": {
   "codemirror_mode": {
    "name": "ipython",
    "version": 3
   },
   "file_extension": ".py",
   "mimetype": "text/x-python",
   "name": "python",
   "nbconvert_exporter": "python",
   "pygments_lexer": "ipython3",
   "version": "3.6.3"
  }
 },
 "nbformat": 4,
 "nbformat_minor": 2
}
